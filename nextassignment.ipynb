{
 "cells": [
  {
   "cell_type": "markdown",
   "id": "7a8701ae-5205-433c-8019-c202846a1ae4",
   "metadata": {},
   "source": [
    "Q1. What is Abstraction in OOps? Explain with an example."
   ]
  },
  {
   "cell_type": "markdown",
   "id": "81b00475-fada-4db3-8a19-cfe53cea09e7",
   "metadata": {},
   "source": [
    "Abstraction is a concept that hides complex and unessential thingks from the program."
   ]
  },
  {
   "cell_type": "code",
   "execution_count": 2,
   "id": "866ef752-e3bf-4a8f-b64a-dfc06292fef3",
   "metadata": {},
   "outputs": [
    {
     "name": "stdout",
     "output_type": "stream",
     "text": [
      "15\n",
      "50.24\n"
     ]
    }
   ],
   "source": [
    "from abc import ABC, \n",
    "\n",
    "class Shape(ABC):\n",
    "    @abstractmethod\n",
    "    def calculate_area(self):\n",
    "        pass\n",
    "\n",
    "class Rectangle(Shape):\n",
    "    def __init__(self, length, width):\n",
    "        self.length = length\n",
    "        self.width = width\n",
    "\n",
    "    def calculate_area(self):\n",
    "        return self.length * self.width\n",
    "\n",
    "class Circle(Shape):\n",
    "    def __init__(self, radius):\n",
    "        self.radius = radius\n",
    "\n",
    "    def calculate_area(self):\n",
    "        return 3.14 * self.radius * self.radius\n",
    "\n",
    "# Creating objects\n",
    "rectangle = Rectangle(5, 3)\n",
    "circle = Circle(4)\n",
    "\n",
    "# Calling the abstract method\n",
    "print(rectangle.calculate_area())  # Output: 15\n",
    "print(circle.calculate_area())     # Output: 50.24\n"
   ]
  },
  {
   "cell_type": "code",
   "execution_count": 1,
   "id": "7bafeeef-32b4-4f3f-b651-e12304d6372e",
   "metadata": {},
   "outputs": [],
   "source": [
    "from abc import ABC, abstractmethod\n",
    "\n",
    "class shape(ABC):\n",
    "    @abstractmethod\n",
    "    def calculate_area(self):\n",
    "        pass\n",
    "    \n",
    "class circle(shape):\n",
    "    def __init__(self, radius):\n",
    "        self.radius = radius\n",
    "    \n",
    "    def calculate_area(self):\n",
    "        return 3.14 * self.radius * self.radius\n"
   ]
  },
  {
   "cell_type": "code",
   "execution_count": 6,
   "id": "b2070222-1df6-437e-b4a3-7cfe3bd7f529",
   "metadata": {},
   "outputs": [],
   "source": [
    "Circle = circle(21)"
   ]
  },
  {
   "cell_type": "code",
   "execution_count": 9,
   "id": "0dbb8d41-20b2-4cc0-b562-8df278802274",
   "metadata": {},
   "outputs": [
    {
     "data": {
      "text/plain": [
       "1384.74"
      ]
     },
     "execution_count": 9,
     "metadata": {},
     "output_type": "execute_result"
    }
   ],
   "source": [
    "Circle.calculate_area()"
   ]
  },
  {
   "cell_type": "markdown",
   "id": "77ba0cc3-2e1d-4442-8eee-7950eb5a615c",
   "metadata": {},
   "source": [
    "Q2. Differentiate between Abstraction and Encapsulation. Explain with an example."
   ]
  },
  {
   "cell_type": "markdown",
   "id": "dc191ded-1d85-45a5-b567-ec540d4e5112",
   "metadata": {},
   "source": [
    "Abstraction hides unneccesary and complexity in program while encapsulation used to bundle data and method in a class."
   ]
  },
  {
   "cell_type": "code",
   "execution_count": 11,
   "id": "4a7bd582-79af-4f45-888d-f60f310e072d",
   "metadata": {},
   "outputs": [],
   "source": [
    "from abc import ABC, abstractmethod\n",
    "\n",
    "class Shape(ABC):\n",
    "    @abstractmethod\n",
    "    def area(self):\n",
    "        pass\n",
    "\n",
    "    @abstractmethod\n",
    "    def perimeter(self):\n",
    "        pass\n",
    "\n",
    "class Rectangle(Shape):\n",
    "    def __init__(self, length, width):\n",
    "        self.length = length\n",
    "        self.width = width\n",
    "\n",
    "    def area(self):\n",
    "        return self.length * self.width\n",
    "\n",
    "    def perimeter(self):\n",
    "        return 2 * (self.length + self.width)\n",
    "\n",
    "class Circle(Shape):\n",
    "    def __init__(self, radius):\n",
    "        self.radius = radius\n",
    "\n",
    "    def area(self):\n",
    "        return 3.14 * self.radius * self.radius\n",
    "\n",
    "    def perimeter(self):\n",
    "        return 2 * 3.14 * self.radius"
   ]
  },
  {
   "cell_type": "code",
   "execution_count": 12,
   "id": "4908508d-39f0-408a-a8b8-f96eb42cc4fe",
   "metadata": {},
   "outputs": [
    {
     "name": "stdout",
     "output_type": "stream",
     "text": [
      "Rectangle Area: 15\n",
      "Rectangle Perimeter: 16\n",
      "Circle Area: 50.24\n",
      "Circle Circumference: 25.12\n"
     ]
    }
   ],
   "source": [
    "rectangle = Rectangle(5, 3)\n",
    "print(\"Rectangle Area:\", rectangle.area())\n",
    "print(\"Rectangle Perimeter:\", rectangle.perimeter())\n",
    "\n",
    "circle = Circle(4)\n",
    "print(\"Circle Area:\", circle.area())\n",
    "print(\"Circle Circumference:\", circle.perimeter())\n"
   ]
  },
  {
   "cell_type": "code",
   "execution_count": null,
   "id": "5465b93d-2f3c-465d-86e2-8346e517be43",
   "metadata": {},
   "outputs": [],
   "source": []
  },
  {
   "cell_type": "code",
   "execution_count": 13,
   "id": "c306d022-602f-461e-ba71-d8ff4a0b4a8b",
   "metadata": {},
   "outputs": [],
   "source": [
    "class Car:\n",
    "    def __init__(self, make, model, year):\n",
    "        self._make = make  # Encapsulated attribute\n",
    "        self._model = model  # Encapsulated attribute\n",
    "        self._year = year  # Encapsulated attribute\n",
    "        self._fuel_level = 0  # Encapsulated attribute\n",
    "\n",
    "    def refuel(self, amount):\n",
    "        self._fuel_level += amount\n",
    "\n",
    "    def drive(self, distance):\n",
    "        fuel_needed = distance / 10  # Assuming 10 km per liter of fuel\n",
    "        if fuel_needed <= self._fuel_level:\n",
    "            print(\"Driving...\")\n",
    "            self._fuel_level -= fuel_needed\n",
    "        else:\n",
    "            print(\"Not enough fuel!\")\n",
    "\n",
    "    def get_make(self):\n",
    "        return self._make\n",
    "\n",
    "    def get_model(self):\n",
    "        return self._model\n",
    "\n",
    "    def get_year(self):\n",
    "        return self._year\n",
    "\n"
   ]
  },
  {
   "cell_type": "code",
   "execution_count": 14,
   "id": "5a865ea1-9240-4285-b351-23e2704e8599",
   "metadata": {},
   "outputs": [
    {
     "name": "stdout",
     "output_type": "stream",
     "text": [
      "Driving...\n",
      "Car Details:\n",
      "Make: Toyota\n",
      "Model: Camry\n",
      "Year: 2022\n"
     ]
    }
   ],
   "source": [
    "\n",
    "car = Car(\"Toyota\", \"Camry\", 2022)\n",
    "car.refuel(20)\n",
    "car.drive(150)\n",
    "\n",
    "print(\"Car Details:\")\n",
    "print(\"Make:\", car.get_make())\n",
    "print(\"Model:\", car.get_model())\n",
    "print(\"Year:\", car.get_year())\n"
   ]
  },
  {
   "cell_type": "markdown",
   "id": "da36a421-4c85-4c21-a926-c3e390a24b56",
   "metadata": {},
   "source": [
    "Q3. What is abc module in python? Why is it used?"
   ]
  },
  {
   "cell_type": "markdown",
   "id": "9c0625a5-7cd3-4d2e-b551-01397283a4ad",
   "metadata": {},
   "source": [
    "in python abc module ( abstarct base classes) provides mechanism for abstract base class.\n",
    "and it is used to create abstract base class."
   ]
  },
  {
   "cell_type": "markdown",
   "id": "a4314f8c-47c6-4aaa-9abd-2c0ff6de57cb",
   "metadata": {},
   "source": [
    "Q4. How can we achieve data abstraction?"
   ]
  },
  {
   "cell_type": "markdown",
   "id": "7a891f00-2101-455f-ac50-1e1ab3886f11",
   "metadata": {},
   "source": [
    "Data abstraction can be achieved in programming by using classes and objects. Here are the key steps to achieve data abstraction:\n",
    "\n",
    "1. Identify the relevant data: Determine the essential data elements that need to be represented and manipulated. These data elements should capture the important characteristics or properties of the real-world entity you are modeling.\n",
    "\n",
    "2. Define a class: Create a class that represents the abstract concept or entity you want to model. The class should encapsulate the relevant data and provide methods for interacting with and manipulating that data.\n",
    "\n",
    "3. Hide unnecessary details: Within the class, hide unnecessary implementation details or complex internal workings. Expose only the essential attributes and behaviors that the external code needs to interact with.\n",
    "\n",
    "4. Provide public methods: Define public methods (also called interfaces or accessors) that allow external code to access and modify the data in a controlled manner. These methods act as an abstraction layer, providing a simplified and consistent way to interact with the underlying data.\n",
    "\n",
    "5. Encapsulate the data: Encapsulate the data within the class by using access modifiers such as private or protected. This prevents direct access to the data from external code, ensuring that the data can only be accessed and modified through the defined public methods.\n",
    "\n",
    "6. Use the class: Instantiate objects of the class and use them in your program. Interact with the objects using the public methods, without needing to be aware of the internal implementation details.\n"
   ]
  },
  {
   "cell_type": "code",
   "execution_count": null,
   "id": "8acecafc-8817-4f8c-9b19-366d1d7f2a7a",
   "metadata": {},
   "outputs": [],
   "source": []
  },
  {
   "cell_type": "code",
   "execution_count": 19,
   "id": "d0a16bb9-a3c2-476e-93bd-83460e3ba043",
   "metadata": {},
   "outputs": [],
   "source": [
    "from abc import ABC, abstractmethod\n",
    "\n",
    "class AbstractClass(ABC):\n",
    "    @abstractmethod\n",
    "    def abstract_method(self):\n",
    "        pass\n",
    "\n",
    "\n",
    "\n",
    "\n",
    "\n",
    "class ConcreteClass(AbstractClass):\n",
    "    def abstract_method(self):\n",
    "        print(\"Implementation of abstract_method\")"
   ]
  },
  {
   "cell_type": "code",
   "execution_count": 20,
   "id": "a46fca92-3fc7-4e1a-8d0b-60c34696bec8",
   "metadata": {},
   "outputs": [
    {
     "name": "stdout",
     "output_type": "stream",
     "text": [
      "Implementation of abstract_method\n"
     ]
    }
   ],
   "source": [
    "\n",
    "obj = ConcreteClass()\n",
    "obj.abstract_method()\n"
   ]
  },
  {
   "cell_type": "code",
   "execution_count": null,
   "id": "532c83c1-2821-476e-9742-bf6b0a535ffb",
   "metadata": {},
   "outputs": [],
   "source": []
  }
 ],
 "metadata": {
  "kernelspec": {
   "display_name": "Python 3 (ipykernel)",
   "language": "python",
   "name": "python3"
  },
  "language_info": {
   "codemirror_mode": {
    "name": "ipython",
    "version": 3
   },
   "file_extension": ".py",
   "mimetype": "text/x-python",
   "name": "python",
   "nbconvert_exporter": "python",
   "pygments_lexer": "ipython3",
   "version": "3.10.8"
  }
 },
 "nbformat": 4,
 "nbformat_minor": 5
}
